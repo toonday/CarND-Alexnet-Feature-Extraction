{
 "cells": [
  {
   "cell_type": "code",
   "execution_count": 1,
   "metadata": {},
   "outputs": [
    {
     "name": "stdout",
     "output_type": "stream",
     "text": [
      "Image 0\n",
      "miniature poodle: 0.389\n",
      "toy poodle: 0.223\n",
      "Bedlington terrier: 0.173\n",
      "standard poodle: 0.150\n",
      "komondor: 0.026\n",
      "\n",
      "Image 1\n",
      "weasel: 0.331\n",
      "polecat, fitch, foulmart, foumart, Mustela putorius: 0.280\n",
      "black-footed ferret, ferret, Mustela nigripes: 0.210\n",
      "mink: 0.081\n",
      "Arctic fox, white fox, Alopex lagopus: 0.027\n",
      "\n",
      "Time: 0.868 seconds\n"
     ]
    }
   ],
   "source": [
    "%run 'imagenet_inference.py'"
   ]
  },
  {
   "cell_type": "code",
   "execution_count": null,
   "metadata": {
    "collapsed": true
   },
   "outputs": [],
   "source": []
  },
  {
   "cell_type": "code",
   "execution_count": 1,
   "metadata": {},
   "outputs": [
    {
     "name": "stdout",
     "output_type": "stream",
     "text": [
      "Image 0\n",
      "screen, CRT screen: 0.051\n",
      "digital clock: 0.041\n",
      "laptop, laptop computer: 0.030\n",
      "balance beam, beam: 0.027\n",
      "parallel bars, bars: 0.023\n",
      "\n",
      "Image 1\n",
      "digital watch: 0.395\n",
      "digital clock: 0.275\n",
      "bottlecap: 0.115\n",
      "stopwatch, stop watch: 0.104\n",
      "combination lock: 0.086\n",
      "\n",
      "Time: 0.839 seconds\n"
     ]
    }
   ],
   "source": [
    "%run 'traffic_sign_inference.py'"
   ]
  },
  {
   "cell_type": "code",
   "execution_count": null,
   "metadata": {
    "collapsed": true
   },
   "outputs": [],
   "source": []
  },
  {
   "cell_type": "code",
   "execution_count": 1,
   "metadata": {},
   "outputs": [
    {
     "name": "stdout",
     "output_type": "stream",
     "text": [
      "Image 0\n"
     ]
    },
    {
     "name": "stderr",
     "output_type": "stream",
     "text": [
      "/src/feature_extraction.py:48: DeprecationWarning: \n",
      ".ix is deprecated. Please use\n",
      ".loc for label based indexing or\n",
      ".iloc for positional indexing\n",
      "\n",
      "See the documentation here:\n",
      "http://pandas.pydata.org/pandas-docs/stable/indexing.html#ix-indexer-is-deprecated\n",
      "  print(\"%s: %.3f\" % (sign_names.ix[inds[-1 - i]][1], output[input_im_ind, inds[-1 - i]]))\n"
     ]
    },
    {
     "name": "stdout",
     "output_type": "stream",
     "text": [
      "Right-of-way at the next intersection: 0.066\n",
      "No vechiles: 0.043\n",
      "Speed limit (120km/h): 0.042\n",
      "Dangerous curve to the right: 0.040\n",
      "Bumpy road: 0.037\n",
      "\n",
      "Image 1\n",
      "Bumpy road: 0.073\n",
      "Bicycles crossing: 0.063\n",
      "Dangerous curve to the right: 0.057\n",
      "Speed limit (80km/h): 0.048\n",
      "Priority road: 0.042\n",
      "\n",
      "Time: 0.932 seconds\n"
     ]
    }
   ],
   "source": [
    "%run 'feature_extraction.py'"
   ]
  },
  {
   "cell_type": "code",
   "execution_count": null,
   "metadata": {},
   "outputs": [],
   "source": []
  },
  {
   "cell_type": "code",
   "execution_count": null,
   "metadata": {
    "collapsed": true
   },
   "outputs": [],
   "source": [
    "%run 'train_feature_extraction_solution.py'"
   ]
  },
  {
   "cell_type": "code",
   "execution_count": null,
   "metadata": {
    "collapsed": true
   },
   "outputs": [],
   "source": []
  }
 ],
 "metadata": {
  "kernelspec": {
   "display_name": "Python 3",
   "language": "python",
   "name": "python3"
  },
  "language_info": {
   "codemirror_mode": {
    "name": "ipython",
    "version": 3
   },
   "file_extension": ".py",
   "mimetype": "text/x-python",
   "name": "python",
   "nbconvert_exporter": "python",
   "pygments_lexer": "ipython3",
   "version": "3.5.2"
  },
  "widgets": {
   "state": {},
   "version": "1.1.2"
  }
 },
 "nbformat": 4,
 "nbformat_minor": 2
}
